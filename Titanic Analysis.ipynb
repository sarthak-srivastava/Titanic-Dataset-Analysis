{
 "cells": [
  {
   "cell_type": "code",
   "execution_count": 1,
   "metadata": {},
   "outputs": [
    {
     "name": "stderr",
     "output_type": "stream",
     "text": [
      "/home/sarthak/anaconda3/lib/python3.6/site-packages/sklearn/cross_validation.py:41: DeprecationWarning: This module was deprecated in version 0.18 in favor of the model_selection module into which all the refactored classes and functions are moved. Also note that the interface of the new CV iterators are different from that of this module. This module will be removed in 0.20.\n",
      "  \"This module will be removed in 0.20.\", DeprecationWarning)\n"
     ]
    }
   ],
   "source": [
    "import numpy as np\n",
    "import pandas as pd\n",
    "from sklearn import cross_validation\n",
    "from sklearn.linear_model import LogisticRegression\n",
    "import operator\n",
    "import re\n",
    "from sklearn.feature_selection import SelectKBest, f_classif\n",
    "import matplotlib.pyplot as plt\n",
    "from sklearn.cross_validation import KFold\n",
    "from sklearn.decomposition import PCA\n",
    "from sklearn import neighbors\n",
    "from nameparser import HumanName "
   ]
  },
  {
   "cell_type": "code",
   "execution_count": 2,
   "metadata": {},
   "outputs": [],
   "source": [
    "#Loading our dataset\n",
    "train = pd.read_csv(\"train.csv\")\n",
    "test = pd.read_csv(\"test.csv\")"
   ]
  },
  {
   "cell_type": "code",
   "execution_count": 3,
   "metadata": {
    "scrolled": true
   },
   "outputs": [
    {
     "data": {
      "text/html": [
       "<div>\n",
       "<style scoped>\n",
       "    .dataframe tbody tr th:only-of-type {\n",
       "        vertical-align: middle;\n",
       "    }\n",
       "\n",
       "    .dataframe tbody tr th {\n",
       "        vertical-align: top;\n",
       "    }\n",
       "\n",
       "    .dataframe thead th {\n",
       "        text-align: right;\n",
       "    }\n",
       "</style>\n",
       "<table border=\"1\" class=\"dataframe\">\n",
       "  <thead>\n",
       "    <tr style=\"text-align: right;\">\n",
       "      <th></th>\n",
       "      <th>PassengerId</th>\n",
       "      <th>Survived</th>\n",
       "      <th>Pclass</th>\n",
       "      <th>Age</th>\n",
       "      <th>SibSp</th>\n",
       "      <th>Parch</th>\n",
       "      <th>Fare</th>\n",
       "    </tr>\n",
       "  </thead>\n",
       "  <tbody>\n",
       "    <tr>\n",
       "      <th>count</th>\n",
       "      <td>891.000000</td>\n",
       "      <td>891.000000</td>\n",
       "      <td>891.000000</td>\n",
       "      <td>714.000000</td>\n",
       "      <td>891.000000</td>\n",
       "      <td>891.000000</td>\n",
       "      <td>891.000000</td>\n",
       "    </tr>\n",
       "    <tr>\n",
       "      <th>mean</th>\n",
       "      <td>446.000000</td>\n",
       "      <td>0.383838</td>\n",
       "      <td>2.308642</td>\n",
       "      <td>29.699118</td>\n",
       "      <td>0.523008</td>\n",
       "      <td>0.381594</td>\n",
       "      <td>32.204208</td>\n",
       "    </tr>\n",
       "    <tr>\n",
       "      <th>std</th>\n",
       "      <td>257.353842</td>\n",
       "      <td>0.486592</td>\n",
       "      <td>0.836071</td>\n",
       "      <td>14.526497</td>\n",
       "      <td>1.102743</td>\n",
       "      <td>0.806057</td>\n",
       "      <td>49.693429</td>\n",
       "    </tr>\n",
       "    <tr>\n",
       "      <th>min</th>\n",
       "      <td>1.000000</td>\n",
       "      <td>0.000000</td>\n",
       "      <td>1.000000</td>\n",
       "      <td>0.420000</td>\n",
       "      <td>0.000000</td>\n",
       "      <td>0.000000</td>\n",
       "      <td>0.000000</td>\n",
       "    </tr>\n",
       "    <tr>\n",
       "      <th>25%</th>\n",
       "      <td>223.500000</td>\n",
       "      <td>0.000000</td>\n",
       "      <td>2.000000</td>\n",
       "      <td>20.125000</td>\n",
       "      <td>0.000000</td>\n",
       "      <td>0.000000</td>\n",
       "      <td>7.910400</td>\n",
       "    </tr>\n",
       "    <tr>\n",
       "      <th>50%</th>\n",
       "      <td>446.000000</td>\n",
       "      <td>0.000000</td>\n",
       "      <td>3.000000</td>\n",
       "      <td>28.000000</td>\n",
       "      <td>0.000000</td>\n",
       "      <td>0.000000</td>\n",
       "      <td>14.454200</td>\n",
       "    </tr>\n",
       "    <tr>\n",
       "      <th>75%</th>\n",
       "      <td>668.500000</td>\n",
       "      <td>1.000000</td>\n",
       "      <td>3.000000</td>\n",
       "      <td>38.000000</td>\n",
       "      <td>1.000000</td>\n",
       "      <td>0.000000</td>\n",
       "      <td>31.000000</td>\n",
       "    </tr>\n",
       "    <tr>\n",
       "      <th>max</th>\n",
       "      <td>891.000000</td>\n",
       "      <td>1.000000</td>\n",
       "      <td>3.000000</td>\n",
       "      <td>80.000000</td>\n",
       "      <td>8.000000</td>\n",
       "      <td>6.000000</td>\n",
       "      <td>512.329200</td>\n",
       "    </tr>\n",
       "  </tbody>\n",
       "</table>\n",
       "</div>"
      ],
      "text/plain": [
       "       PassengerId    Survived      Pclass         Age       SibSp  \\\n",
       "count   891.000000  891.000000  891.000000  714.000000  891.000000   \n",
       "mean    446.000000    0.383838    2.308642   29.699118    0.523008   \n",
       "std     257.353842    0.486592    0.836071   14.526497    1.102743   \n",
       "min       1.000000    0.000000    1.000000    0.420000    0.000000   \n",
       "25%     223.500000    0.000000    2.000000   20.125000    0.000000   \n",
       "50%     446.000000    0.000000    3.000000   28.000000    0.000000   \n",
       "75%     668.500000    1.000000    3.000000   38.000000    1.000000   \n",
       "max     891.000000    1.000000    3.000000   80.000000    8.000000   \n",
       "\n",
       "            Parch        Fare  \n",
       "count  891.000000  891.000000  \n",
       "mean     0.381594   32.204208  \n",
       "std      0.806057   49.693429  \n",
       "min      0.000000    0.000000  \n",
       "25%      0.000000    7.910400  \n",
       "50%      0.000000   14.454200  \n",
       "75%      0.000000   31.000000  \n",
       "max      6.000000  512.329200  "
      ]
     },
     "execution_count": 3,
     "metadata": {},
     "output_type": "execute_result"
    }
   ],
   "source": [
    "train.describe()"
   ]
  },
  {
   "cell_type": "code",
   "execution_count": 4,
   "metadata": {},
   "outputs": [
    {
     "data": {
      "text/html": [
       "<div>\n",
       "<style scoped>\n",
       "    .dataframe tbody tr th:only-of-type {\n",
       "        vertical-align: middle;\n",
       "    }\n",
       "\n",
       "    .dataframe tbody tr th {\n",
       "        vertical-align: top;\n",
       "    }\n",
       "\n",
       "    .dataframe thead th {\n",
       "        text-align: right;\n",
       "    }\n",
       "</style>\n",
       "<table border=\"1\" class=\"dataframe\">\n",
       "  <thead>\n",
       "    <tr style=\"text-align: right;\">\n",
       "      <th></th>\n",
       "      <th>PassengerId</th>\n",
       "      <th>Survived</th>\n",
       "      <th>Pclass</th>\n",
       "      <th>Name</th>\n",
       "      <th>Sex</th>\n",
       "      <th>Age</th>\n",
       "      <th>SibSp</th>\n",
       "      <th>Parch</th>\n",
       "      <th>Ticket</th>\n",
       "      <th>Fare</th>\n",
       "      <th>Cabin</th>\n",
       "      <th>Embarked</th>\n",
       "    </tr>\n",
       "  </thead>\n",
       "  <tbody>\n",
       "    <tr>\n",
       "      <th>0</th>\n",
       "      <td>1</td>\n",
       "      <td>0</td>\n",
       "      <td>3</td>\n",
       "      <td>Braund, Mr. Owen Harris</td>\n",
       "      <td>male</td>\n",
       "      <td>22.0</td>\n",
       "      <td>1</td>\n",
       "      <td>0</td>\n",
       "      <td>A/5 21171</td>\n",
       "      <td>7.2500</td>\n",
       "      <td>NaN</td>\n",
       "      <td>S</td>\n",
       "    </tr>\n",
       "    <tr>\n",
       "      <th>1</th>\n",
       "      <td>2</td>\n",
       "      <td>1</td>\n",
       "      <td>1</td>\n",
       "      <td>Cumings, Mrs. John Bradley (Florence Briggs Th...</td>\n",
       "      <td>female</td>\n",
       "      <td>38.0</td>\n",
       "      <td>1</td>\n",
       "      <td>0</td>\n",
       "      <td>PC 17599</td>\n",
       "      <td>71.2833</td>\n",
       "      <td>C85</td>\n",
       "      <td>C</td>\n",
       "    </tr>\n",
       "    <tr>\n",
       "      <th>2</th>\n",
       "      <td>3</td>\n",
       "      <td>1</td>\n",
       "      <td>3</td>\n",
       "      <td>Heikkinen, Miss. Laina</td>\n",
       "      <td>female</td>\n",
       "      <td>26.0</td>\n",
       "      <td>0</td>\n",
       "      <td>0</td>\n",
       "      <td>STON/O2. 3101282</td>\n",
       "      <td>7.9250</td>\n",
       "      <td>NaN</td>\n",
       "      <td>S</td>\n",
       "    </tr>\n",
       "    <tr>\n",
       "      <th>3</th>\n",
       "      <td>4</td>\n",
       "      <td>1</td>\n",
       "      <td>1</td>\n",
       "      <td>Futrelle, Mrs. Jacques Heath (Lily May Peel)</td>\n",
       "      <td>female</td>\n",
       "      <td>35.0</td>\n",
       "      <td>1</td>\n",
       "      <td>0</td>\n",
       "      <td>113803</td>\n",
       "      <td>53.1000</td>\n",
       "      <td>C123</td>\n",
       "      <td>S</td>\n",
       "    </tr>\n",
       "    <tr>\n",
       "      <th>4</th>\n",
       "      <td>5</td>\n",
       "      <td>0</td>\n",
       "      <td>3</td>\n",
       "      <td>Allen, Mr. William Henry</td>\n",
       "      <td>male</td>\n",
       "      <td>35.0</td>\n",
       "      <td>0</td>\n",
       "      <td>0</td>\n",
       "      <td>373450</td>\n",
       "      <td>8.0500</td>\n",
       "      <td>NaN</td>\n",
       "      <td>S</td>\n",
       "    </tr>\n",
       "  </tbody>\n",
       "</table>\n",
       "</div>"
      ],
      "text/plain": [
       "   PassengerId  Survived  Pclass  \\\n",
       "0            1         0       3   \n",
       "1            2         1       1   \n",
       "2            3         1       3   \n",
       "3            4         1       1   \n",
       "4            5         0       3   \n",
       "\n",
       "                                                Name     Sex   Age  SibSp  \\\n",
       "0                            Braund, Mr. Owen Harris    male  22.0      1   \n",
       "1  Cumings, Mrs. John Bradley (Florence Briggs Th...  female  38.0      1   \n",
       "2                             Heikkinen, Miss. Laina  female  26.0      0   \n",
       "3       Futrelle, Mrs. Jacques Heath (Lily May Peel)  female  35.0      1   \n",
       "4                           Allen, Mr. William Henry    male  35.0      0   \n",
       "\n",
       "   Parch            Ticket     Fare Cabin Embarked  \n",
       "0      0         A/5 21171   7.2500   NaN        S  \n",
       "1      0          PC 17599  71.2833   C85        C  \n",
       "2      0  STON/O2. 3101282   7.9250   NaN        S  \n",
       "3      0            113803  53.1000  C123        S  \n",
       "4      0            373450   8.0500   NaN        S  "
      ]
     },
     "execution_count": 4,
     "metadata": {},
     "output_type": "execute_result"
    }
   ],
   "source": [
    "train.head()"
   ]
  },
  {
   "cell_type": "code",
   "execution_count": 5,
   "metadata": {},
   "outputs": [
    {
     "data": {
      "text/plain": [
       "PassengerId      0\n",
       "Survived         0\n",
       "Pclass           0\n",
       "Name             0\n",
       "Sex              0\n",
       "Age            177\n",
       "SibSp            0\n",
       "Parch            0\n",
       "Ticket           0\n",
       "Fare             0\n",
       "Cabin          687\n",
       "Embarked         2\n",
       "dtype: int64"
      ]
     },
     "execution_count": 5,
     "metadata": {},
     "output_type": "execute_result"
    }
   ],
   "source": [
    "# We can already see that we have some missing data in the Cabin variable. Let's have a look at what else we are missing.\n",
    "train.isnull().sum()"
   ]
  },
  {
   "cell_type": "code",
   "execution_count": 6,
   "metadata": {},
   "outputs": [
    {
     "name": "stdout",
     "output_type": "stream",
     "text": [
      "0.19865319865319866\n"
     ]
    }
   ],
   "source": [
    "missing_age = 177/891\n",
    "print(missing_age)"
   ]
  },
  {
   "cell_type": "code",
   "execution_count": 7,
   "metadata": {},
   "outputs": [
    {
     "name": "stdout",
     "output_type": "stream",
     "text": [
      "0.7710437710437711\n"
     ]
    }
   ],
   "source": [
    "missing_cabin = 687/891\n",
    "print(missing_cabin)"
   ]
  },
  {
   "cell_type": "markdown",
   "metadata": {},
   "source": [
    "## Pretty good for the most part. Age is missing for 19.86% of its data, hopefully we will be able to use other data to provide a fair guess as to what those ages should be. Cabin is missing most of its data (77.10 % missing), but we might be able to learn something from the information that we have. Embarked is missing just two values, that won't be a problem.\n",
    "\n",
    "## Next, let's look at the data via some graphs.\n"
   ]
  },
  {
   "cell_type": "code",
   "execution_count": 8,
   "metadata": {},
   "outputs": [
    {
     "data": {
      "image/png": "[encoded data removed]",
      "text/plain": [
       "<Figure size 432x288 with 1 Axes>"
      ]
     },
     "metadata": {},
     "output_type": "display_data"
    },
    {
     "data": {
      "text/plain": [
       "0    549\n",
       "1    342\n",
       "Name: Survived, dtype: int64"
      ]
     },
     "execution_count": 8,
     "metadata": {},
     "output_type": "execute_result"
    }
   ],
   "source": [
    "\n",
    "\n",
    "train.Survived.plot(kind='hist', bins = 2, edgecolor = 'red')\n",
    "plt.xticks((1, 0))\n",
    "plt.xlabel(('Died','Survived'))\n",
    "plt.show()\n",
    "train.Survived.value_counts()"
   ]
  },
  {
   "cell_type": "code",
   "execution_count": 9,
   "metadata": {},
   "outputs": [
    {
     "name": "stdout",
     "output_type": "stream",
     "text": [
      "People survived =  38.38383838383838 %\n",
      "People died =  61.61616161616161 %\n"
     ]
    }
   ],
   "source": [
    "survived = 342/891\n",
    "print(\"People survived = \",survived*100,\"%\")\n",
    "print(\"People died = \",(1-survived)*100,\"%\")"
   ]
  },
  {
   "cell_type": "markdown",
   "metadata": {},
   "source": [
    "## Survival of passenger vs their passenger class"
   ]
  },
  {
   "cell_type": "code",
   "execution_count": 10,
   "metadata": {
    "scrolled": false
   },
   "outputs": [
    {
     "data": {
      "image/png": "[encoded data removed]",
      "text/plain": [
       "<Figure size 432x288 with 1 Axes>"
      ]
     },
     "metadata": {},
     "output_type": "display_data"
    },
    {
     "name": "stdout",
     "output_type": "stream",
     "text": [
      "Survived    0    1  All\n",
      "Pclass                 \n",
      "1          80  136  216\n",
      "2          97   87  184\n",
      "3         372  119  491\n",
      "All       549  342  891\n"
     ]
    }
   ],
   "source": [
    "n_groups = 3\n",
    "index = np.arange(n_groups)\n",
    "bar_width = 0.35\n",
    "opacity = 0.7\n",
    "\n",
    "PclassSurvived = train[train.Survived==1].Pclass.value_counts().sort_index()\n",
    "PclassDied = train[train.Survived==0].Pclass.value_counts().sort_index()\n",
    "\n",
    "plt.bar(index, PclassSurvived, bar_width,\n",
    "        alpha=opacity,\n",
    "        color='b',\n",
    "        label='Survived')\n",
    "\n",
    "plt.bar(index + bar_width, PclassDied, bar_width,\n",
    "        alpha=opacity,\n",
    "        color='g',\n",
    "        label='Died')\n",
    "\n",
    "plt.xticks(index + bar_width, (1,2,3))\n",
    "plt.xlabel(\"Pclass\")\n",
    "plt.ylabel(\"Number of Passengers\")\n",
    "plt.legend(loc = 2)\n",
    "plt.show()\n",
    "\n",
    "print(pd.crosstab(train.Pclass, train.Survived, margins=True))\n"
   ]
  },
  {
   "cell_type": "markdown",
   "metadata": {},
   "source": [
    "## SURVIVAL vs PASSENGER CLASS\n",
    "- As visible from the above data, 136 out of 216( 62.96% ) of class 1 passengers survived.\n",
    "- 87 out of 184 -47,28% of class 2 passengers survived whereas \n",
    "- Only 119 out of 491, i.e, 24.23% of class 3 passengers survived. \n"
   ]
  },
  {
   "cell_type": "markdown",
   "metadata": {},
   "source": [
    "## GENDER VS SURVIVAL ANALYSIS"
   ]
  },
  {
   "cell_type": "code",
   "execution_count": 11,
   "metadata": {},
   "outputs": [
    {
     "data": {
      "image/png": "[encoded data removed]",
      "text/plain": [
       "<Figure size 1080x360 with 2 Axes>"
      ]
     },
     "metadata": {},
     "output_type": "display_data"
    },
    {
     "name": "stdout",
     "output_type": "stream",
     "text": [
      "Male Values:\n",
      "Survived    0    1  All\n",
      "Pclass                 \n",
      "1          77   45  122\n",
      "2          91   17  108\n",
      "3         300   47  347\n",
      "All       468  109  577\n",
      "\n",
      "Female Values:\n",
      "Survived   0    1  All\n",
      "Pclass                \n",
      "1          3   91   94\n",
      "2          6   70   76\n",
      "3         72   72  144\n",
      "All       81  233  314\n"
     ]
    }
   ],
   "source": [
    "n_groups = 3\n",
    "index = np.arange(n_groups)\n",
    "bar_width = 0.35\n",
    "opacity = 0.7\n",
    "\n",
    "trainMale = train[train.Sex == 'male']\n",
    "trainFemale = train[train.Sex == 'female']\n",
    "\n",
    "PclassMaleSurvived = trainMale[trainMale.Survived==1].Pclass.value_counts().sort_index()\n",
    "PclassMaleDied = trainMale[trainMale.Survived==0].Pclass.value_counts().sort_index()\n",
    "\n",
    "PclassFemaleSurvived = trainFemale[trainFemale.Survived==1].Pclass.value_counts().sort_index()\n",
    "PclassFemaleDied = trainFemale[trainFemale.Survived==0].Pclass.value_counts().sort_index()\n",
    "\n",
    "fig, axes = plt.subplots(nrows=1, ncols=2, figsize=(15, 5))\n",
    "\n",
    "\n",
    "PclassM1 = axes[0].bar(index, PclassMaleSurvived, bar_width,\n",
    "                 alpha=opacity,\n",
    "                 color='darkblue',\n",
    "                 label='Male Survived')\n",
    "\n",
    "PclassM0 = axes[0].bar(index + bar_width, PclassMaleDied, bar_width,\n",
    "                 alpha=opacity,\n",
    "                 color='lightblue',\n",
    "                 label='Male Died')\n",
    "\n",
    "PclassF1 = axes[1].bar(index, PclassFemaleSurvived, bar_width,\n",
    "                 alpha=opacity,\n",
    "                 color='darkgreen',\n",
    "                 label='Female Survived')\n",
    "\n",
    "PclassF0 = axes[1].bar(index + bar_width, PclassFemaleDied, bar_width,\n",
    "                 alpha=opacity,\n",
    "                 color='lightgreen',\n",
    "                 label='Female Died')\n",
    "\n",
    "for ax in axes:\n",
    "    ax.legend(loc = 9)\n",
    "    ax.set_xlabel('Pclass')\n",
    "    ax.set_ylabel('Number of People')\n",
    "    \n",
    "plt.setp(axes, \n",
    "         xticks = index + bar_width,\n",
    "         xticklabels=['1', '2', '3'],\n",
    "        )\n",
    "plt.show()\n",
    "\n",
    "print(\"Male Values:\")\n",
    "print (pd.crosstab(trainMale.Pclass, trainMale.Survived, margins = True))\n",
    "print (\"\")\n",
    "print (\"Female Values:\")\n",
    "print (pd.crosstab(trainFemale.Pclass, trainFemale.Survived, margins = True))\n"
   ]
  },
  {
   "cell_type": "markdown",
   "metadata": {},
   "source": [
    "## - Upper and middle class women mostly survived, not so much for the lower class.\n",
    "## - None of the men did particularly well, especially those in the lower class.\n",
    "\n",
    "## - To get a better general sense, let's compare the survival of men and women.\n"
   ]
  },
  {
   "cell_type": "code",
   "execution_count": 12,
   "metadata": {},
   "outputs": [
    {
     "data": {
      "image/png": "[encoded data removed]",
      "text/plain": [
       "<Figure size 432x288 with 1 Axes>"
      ]
     },
     "metadata": {},
     "output_type": "display_data"
    },
    {
     "name": "stdout",
     "output_type": "stream",
     "text": [
      "Total number of people in each sex:\n",
      "Survived    0    1  All\n",
      "Sex                    \n",
      "female     81  233  314\n",
      "male      468  109  577\n",
      "All       549  342  891\n"
     ]
    }
   ],
   "source": [
    "n_groups = 2\n",
    "index = np.arange(n_groups)\n",
    "bar_width = 0.35\n",
    "opacity = 0.7\n",
    "\n",
    "SexSurvived = train[train.Survived==1].Sex.value_counts().sort_index(ascending = False)\n",
    "SexDied = train[train.Survived==0].Sex.value_counts().sort_index(ascending = False)\n",
    "\n",
    "Sex1 = plt.bar(index, SexSurvived, bar_width,\n",
    "                 alpha=opacity,\n",
    "                 color='b',\n",
    "                 label='Survived')\n",
    "Sex0 = plt.bar(index + bar_width, SexDied, bar_width,\n",
    "                 alpha=opacity,\n",
    "                 color='g',\n",
    "                 label='Died')\n",
    "plt.xticks(index + bar_width, ('Male', 'Female'))\n",
    "plt.xlabel(\"Sex\")\n",
    "plt.legend()\n",
    "plt.show()\n",
    "\n",
    "print (\"Total number of people in each sex:\")\n",
    "print (pd.crosstab(train.Sex, train.Survived, margins = True))\n"
   ]
  },
  {
   "cell_type": "markdown",
   "metadata": {},
   "source": [
    "## - As expected, women typically survived and men did not.\n",
    "- 74.20 % of the women passengers survived\n",
    "- Only 18.89% of the total men passengers survived.\n",
    "\n",
    "\n",
    "\n",
    "# AGE ANALYSIS"
   ]
  },
  {
   "cell_type": "code",
   "execution_count": 13,
   "metadata": {},
   "outputs": [
    {
     "data": {
      "image/png": "[encoded data removed]",
      "text/plain": [
       "<Figure size 1080x432 with 1 Axes>"
      ]
     },
     "metadata": {},
     "output_type": "display_data"
    }
   ],
   "source": [
    "fig = plt.figure(figsize=(15, 6))\n",
    "alpha = 0.7\n",
    "\n",
    "AgeSurvived = train[train.Survived==1].Age.value_counts().sort_index()\n",
    "AgeDied = train[train.Survived==0].Age.value_counts().sort_index()\n",
    "\n",
    "Age1 = plt.plot(AgeSurvived,\n",
    "                 alpha=opacity,\n",
    "                 color='b',\n",
    "                 label='Survived')\n",
    "Age0 = plt.plot(AgeDied,\n",
    "                 alpha=opacity,\n",
    "                 color='g',\n",
    "                 label='Died')\n",
    "plt.xlabel(\"Age\")\n",
    "plt.ylabel(\"Number of Passengers\")\n",
    "plt.legend()\n",
    "plt.show()\n"
   ]
  },
  {
   "cell_type": "markdown",
   "metadata": {},
   "source": [
    "- It appears that passengers near the age of 3 to 5 are more likely to survive, otherwise it seems that death is more common.\n",
    "- Also, from the plot, it can be seen that very elderly people (age 74 and beyond) were completeley rescued."
   ]
  },
  {
   "cell_type": "code",
   "execution_count": 14,
   "metadata": {},
   "outputs": [
    {
     "name": "stdout",
     "output_type": "stream",
     "text": [
      "The median age: 28.0 or mean: 29.69911764705882\n"
     ]
    }
   ],
   "source": [
    "print (\"The median age:\", train.Age.median(), \"or mean:\", train.Age.mean())"
   ]
  },
  {
   "cell_type": "markdown",
   "metadata": {},
   "source": [
    "# Let's analyse presence of family members and correlation between their survival"
   ]
  },
  {
   "cell_type": "markdown",
   "metadata": {},
   "source": [
    "# Sibling/Spouse Analysis"
   ]
  },
  {
   "cell_type": "code",
   "execution_count": 15,
   "metadata": {},
   "outputs": [
    {
     "data": {
      "image/png": "[encoded data removed]",
      "text/plain": [
       "<Figure size 432x288 with 1 Axes>"
      ]
     },
     "metadata": {},
     "output_type": "display_data"
    },
    {
     "name": "stdout",
     "output_type": "stream",
     "text": [
      "Number of people in each Sibling/Spouse group:\n"
     ]
    },
    {
     "data": {
      "text/html": [
       "<div>\n",
       "<style scoped>\n",
       "    .dataframe tbody tr th:only-of-type {\n",
       "        vertical-align: middle;\n",
       "    }\n",
       "\n",
       "    .dataframe tbody tr th {\n",
       "        vertical-align: top;\n",
       "    }\n",
       "\n",
       "    .dataframe thead th {\n",
       "        text-align: right;\n",
       "    }\n",
       "</style>\n",
       "<table border=\"1\" class=\"dataframe\">\n",
       "  <thead>\n",
       "    <tr style=\"text-align: right;\">\n",
       "      <th>Survived</th>\n",
       "      <th>0</th>\n",
       "      <th>1</th>\n",
       "      <th>All</th>\n",
       "    </tr>\n",
       "    <tr>\n",
       "      <th>SibSp</th>\n",
       "      <th></th>\n",
       "      <th></th>\n",
       "      <th></th>\n",
       "    </tr>\n",
       "  </thead>\n",
       "  <tbody>\n",
       "    <tr>\n",
       "      <th>0</th>\n",
       "      <td>398</td>\n",
       "      <td>210</td>\n",
       "      <td>608</td>\n",
       "    </tr>\n",
       "    <tr>\n",
       "      <th>1</th>\n",
       "      <td>97</td>\n",
       "      <td>112</td>\n",
       "      <td>209</td>\n",
       "    </tr>\n",
       "    <tr>\n",
       "      <th>2</th>\n",
       "      <td>15</td>\n",
       "      <td>13</td>\n",
       "      <td>28</td>\n",
       "    </tr>\n",
       "    <tr>\n",
       "      <th>3</th>\n",
       "      <td>12</td>\n",
       "      <td>4</td>\n",
       "      <td>16</td>\n",
       "    </tr>\n",
       "    <tr>\n",
       "      <th>4</th>\n",
       "      <td>15</td>\n",
       "      <td>3</td>\n",
       "      <td>18</td>\n",
       "    </tr>\n",
       "    <tr>\n",
       "      <th>5</th>\n",
       "      <td>5</td>\n",
       "      <td>0</td>\n",
       "      <td>5</td>\n",
       "    </tr>\n",
       "    <tr>\n",
       "      <th>8</th>\n",
       "      <td>7</td>\n",
       "      <td>0</td>\n",
       "      <td>7</td>\n",
       "    </tr>\n",
       "    <tr>\n",
       "      <th>All</th>\n",
       "      <td>549</td>\n",
       "      <td>342</td>\n",
       "      <td>891</td>\n",
       "    </tr>\n",
       "  </tbody>\n",
       "</table>\n",
       "</div>"
      ],
      "text/plain": [
       "Survived    0    1  All\n",
       "SibSp                  \n",
       "0         398  210  608\n",
       "1          97  112  209\n",
       "2          15   13   28\n",
       "3          12    4   16\n",
       "4          15    3   18\n",
       "5           5    0    5\n",
       "8           7    0    7\n",
       "All       549  342  891"
      ]
     },
     "execution_count": 15,
     "metadata": {},
     "output_type": "execute_result"
    }
   ],
   "source": [
    "n_groups1 = 5\n",
    "index1 = np.arange(n_groups1)\n",
    "n_groups2 = 7\n",
    "index2 = np.arange(n_groups2)\n",
    "bar_width = 0.35\n",
    "opacity = 0.7\n",
    "\n",
    "SSSurvived = train[train.Survived==1].SibSp.value_counts().sort_index()\n",
    "SSDied = train[train.Survived==0].SibSp.value_counts().sort_index()\n",
    "\n",
    "SS1 = plt.bar(index1, SSSurvived, bar_width,\n",
    "                 alpha=opacity,\n",
    "                 color='b',\n",
    "                 label='Survived')\n",
    "plt.xticks(index + bar_width, (0,1,2,3,4,5,8))\n",
    "\n",
    "SS0 = plt.bar(index2 + bar_width, SSDied, bar_width,\n",
    "                 alpha=opacity,\n",
    "                 color='g',\n",
    "                 label='Died')\n",
    "\n",
    "plt.xlabel(\"Sibling/Spouse\")\n",
    "plt.ylabel(\"Number of Passengers\")\n",
    "plt.legend()\n",
    "plt.show()\n",
    "print (\"Number of people in each Sibling/Spouse group:\")\n",
    "pd.crosstab(train.SibSp, train.Survived, margins = True)\n"
   ]
  },
  {
   "cell_type": "markdown",
   "metadata": {},
   "source": [
    "### Only people with a +1 sibling/spouse show a good survival rate.\n",
    "\n",
    "- Percentage survival = 112/209 = 53.58%"
   ]
  },
  {
   "cell_type": "markdown",
   "metadata": {},
   "source": [
    "## Parent/Children Survival Analysis"
   ]
  },
  {
   "cell_type": "code",
   "execution_count": 16,
   "metadata": {},
   "outputs": [
    {
     "data": {
      "image/png": "[encoded data removed]",
      "text/plain": [
       "<Figure size 432x288 with 1 Axes>"
      ]
     },
     "metadata": {},
     "output_type": "display_data"
    },
    {
     "name": "stdout",
     "output_type": "stream",
     "text": [
      "Number of people in each Parch group:\n",
      "Survived    0    1  All\n",
      "Parch                  \n",
      "0         445  233  678\n",
      "1          53   65  118\n",
      "2          40   40   80\n",
      "3           2    3    5\n",
      "4           4    0    4\n",
      "5           4    1    5\n",
      "6           1    0    1\n",
      "All       549  342  891\n"
     ]
    }
   ],
   "source": [
    "n_groups1 = 5\n",
    "index1 = np.arange(n_groups1)\n",
    "n_groups2 = 7\n",
    "index2 = np.arange(n_groups2)\n",
    "bar_width = 0.35\n",
    "opacity = 0.7\n",
    "\n",
    "PCSurvived = train[train.Survived==1].Parch.value_counts().sort_index()\n",
    "PCDied = train[train.Survived==0].Parch.value_counts().sort_index()\n",
    "\n",
    "PC1 = plt.bar(index1, PCSurvived, bar_width,\n",
    "                 alpha=opacity,\n",
    "                 color='b',\n",
    "                 label='Survived')\n",
    "\n",
    "PC0 = plt.bar(index2 + bar_width, PCDied, bar_width,\n",
    "                 alpha=opacity,\n",
    "                 color='g',\n",
    "                 label='Died')\n",
    "\n",
    "plt.xlabel(\"Parch\")\n",
    "plt.legend()\n",
    "plt.xticks(index + bar_width, (0,1,2,3,4,5,6))\n",
    "plt.ylabel(\"Number of Passengers\")\n",
    "plt.show()\n",
    "print (\"Number of people in each Parch group:\")\n",
    "print (pd.crosstab(train.Parch, train.Survived, margins = True))\n"
   ]
  },
  {
   "cell_type": "markdown",
   "metadata": {},
   "source": [
    "- This looks very similar to the SibSp plot/values. I'm going to combine the two, and call the new variable 'FamilyMembers.' Perhaps something will standout here. I'm particularly interested in passengers with 2 family members, as they might be the most likely to survived based on the SibSp and Parch data."
   ]
  },
  {
   "cell_type": "code",
   "execution_count": 17,
   "metadata": {},
   "outputs": [],
   "source": [
    "train['FamilyMembers'] = (train.SibSp + train.Parch)\n",
    "test['FamilyMembers'] = (test.SibSp + test.Parch)"
   ]
  },
  {
   "cell_type": "code",
   "execution_count": 18,
   "metadata": {},
   "outputs": [
    {
     "data": {
      "image/png": "[encoded data removed]",
      "text/plain": [
       "<Figure size 432x288 with 1 Axes>"
      ]
     },
     "metadata": {},
     "output_type": "display_data"
    },
    {
     "name": "stdout",
     "output_type": "stream",
     "text": [
      "Number of people in each Family Member size:\n",
      "Survived         0    1  All\n",
      "FamilyMembers               \n",
      "0              374  163  537\n",
      "1               72   89  161\n",
      "2               43   59  102\n",
      "3                8   21   29\n",
      "4               12    3   15\n",
      "5               19    3   22\n",
      "6                8    4   12\n",
      "7                6    0    6\n",
      "10               7    0    7\n",
      "All            549  342  891\n"
     ]
    }
   ],
   "source": [
    "n_groups1 = 7\n",
    "index1 = np.arange(n_groups1)\n",
    "n_groups2 = 9\n",
    "index2 = np.arange(n_groups2)\n",
    "bar_width = 0.35\n",
    "opacity = 0.7\n",
    "\n",
    "FamilySurvived = train[train.Survived==1].FamilyMembers.value_counts().sort_index()\n",
    "FamilyDied = train[train.Survived==0].FamilyMembers.value_counts().sort_index()\n",
    "\n",
    "F1 = plt.bar(index1, FamilySurvived, bar_width,\n",
    "                 alpha=opacity,\n",
    "                 color='b',\n",
    "                 label='Survived')\n",
    "\n",
    "F0 = plt.bar(index2 + bar_width, FamilyDied, bar_width,\n",
    "                 alpha=opacity,\n",
    "                 color='g',\n",
    "                 label='Died')\n",
    "\n",
    "plt.xlabel(\"Number of Family Members\")\n",
    "plt.ylabel(\"Number of Passengers\")\n",
    "plt.legend()\n",
    "plt.xticks(index + bar_width, (0,1,2,3,4,5,6,7,10))\n",
    "plt.show()\n",
    "print (\"Number of people in each Family Member size:\")\n",
    "print (pd.crosstab(train.FamilyMembers, train.Survived, margins = True))\n"
   ]
  },
  {
   "cell_type": "code",
   "execution_count": 19,
   "metadata": {},
   "outputs": [
    {
     "data": {
      "text/plain": [
       "0.30353817504655495"
      ]
     },
     "execution_count": 19,
     "metadata": {},
     "output_type": "execute_result"
    }
   ],
   "source": [
    "163/537"
   ]
  },
  {
   "cell_type": "markdown",
   "metadata": {},
   "source": [
    "- We find that people with 1-3 family members did particularly well as compared to the solo traveller\n",
    "- Survival % of people with 1-3 family members = (89+59+21)/(161+102+29) = 57.87%\n",
    "- Survival % of Solo travellers = 163/537 = 30.35%"
   ]
  },
  {
   "cell_type": "code",
   "execution_count": 20,
   "metadata": {},
   "outputs": [
    {
     "data": {
      "text/plain": [
       "B96 B98            4\n",
       "C23 C25 C27        4\n",
       "G6                 4\n",
       "F33                3\n",
       "D                  3\n",
       "E101               3\n",
       "C22 C26            3\n",
       "F2                 3\n",
       "E44                2\n",
       "B57 B59 B63 B66    2\n",
       "C83                2\n",
       "B5                 2\n",
       "D33                2\n",
       "D17                2\n",
       "B77                2\n",
       "B20                2\n",
       "C93                2\n",
       "F G73              2\n",
       "C52                2\n",
       "B49                2\n",
       "E8                 2\n",
       "B28                2\n",
       "E33                2\n",
       "B35                2\n",
       "D35                2\n",
       "B58 B60            2\n",
       "C126               2\n",
       "C65                2\n",
       "D36                2\n",
       "B51 B53 B55        2\n",
       "                  ..\n",
       "E36                1\n",
       "B80                1\n",
       "D6                 1\n",
       "E31                1\n",
       "C101               1\n",
       "D7                 1\n",
       "A5                 1\n",
       "C91                1\n",
       "D30                1\n",
       "E38                1\n",
       "A16                1\n",
       "E34                1\n",
       "C7                 1\n",
       "C103               1\n",
       "B19                1\n",
       "E68                1\n",
       "B50                1\n",
       "B42                1\n",
       "B69                1\n",
       "F38                1\n",
       "B79                1\n",
       "B71                1\n",
       "E46                1\n",
       "C104               1\n",
       "C128               1\n",
       "D21                1\n",
       "F E69              1\n",
       "C82                1\n",
       "A32                1\n",
       "C62 C64            1\n",
       "Name: Cabin, Length: 147, dtype: int64"
      ]
     },
     "execution_count": 20,
     "metadata": {},
     "output_type": "execute_result"
    }
   ],
   "source": [
    "train.Cabin.value_counts()"
   ]
  },
  {
   "cell_type": "markdown",
   "metadata": {},
   "source": [
    "- Something can be gained by sorting cabins based on their letter (which should represent the floor of the titanic they are on; higher floor = more wealthy = closer to life boats = more likely to survive)."
   ]
  },
  {
   "cell_type": "code",
   "execution_count": 21,
   "metadata": {},
   "outputs": [
    {
     "name": "stdout",
     "output_type": "stream",
     "text": [
      "Survived    0    1  All\n",
      "Embarked               \n",
      "C          75   93  168\n",
      "Q          47   30   77\n",
      "S         427  217  644\n",
      "All       549  340  889\n"
     ]
    }
   ],
   "source": [
    "print (pd.crosstab(train.Embarked, train.Survived, margins=True))"
   ]
  },
  {
   "cell_type": "code",
   "execution_count": 22,
   "metadata": {},
   "outputs": [
    {
     "data": {
      "text/plain": [
       "0.5535714285714286"
      ]
     },
     "execution_count": 22,
     "metadata": {},
     "output_type": "execute_result"
    }
   ],
   "source": [
    "93/168"
   ]
  },
  {
   "cell_type": "markdown",
   "metadata": {},
   "source": [
    "### People with Cabin number starting with 'C' were more likely to survive as compared to any other cabin category.\n",
    "- Percentage of 'C' cabin survivors = 93/168 = 55.35%"
   ]
  }
 ],
 "metadata": {
  "kernelspec": {
   "display_name": "Python 3",
   "language": "python",
   "name": "python3"
  },
  "language_info": {
   "codemirror_mode": {
    "name": "ipython",
    "version": 3
   },
   "file_extension": ".py",
   "mimetype": "text/x-python",
   "name": "python",
   "nbconvert_exporter": "python",
   "pygments_lexer": "ipython3",
   "version": "3.6.5"
  }
 },
 "nbformat": 4,
 "nbformat_minor": 2
}
